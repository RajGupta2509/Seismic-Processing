{
 "cells": [
  {
   "cell_type": "code",
   "execution_count": 1,
   "id": "08404c4a-768b-4b52-a5c3-2a172b8fa282",
   "metadata": {},
   "outputs": [],
   "source": [
    "### Main Assumption = Shot Interval (si) must be a multiple of Group Interval (ri)\n",
    "# Sn = no of shots\n",
    "# Rn = no of receivers\n",
    "# si = shot interval\n",
    "# ri = receiver/channel/group interval\n",
    "# nearOffset = near trace offset\n",
    "# farOffset = far trace offset\n",
    "# asLen = active steamer Length"
   ]
  },
  {
   "cell_type": "code",
   "execution_count": 2,
   "id": "a9f71fb8-0b58-4793-8128-61c5b9b51e81",
   "metadata": {},
   "outputs": [],
   "source": [
    "# taking inputs from user\n",
    "def getInput():\n",
    "    print(\"----------Inputs-----------\")\n",
    "    Sn=int(input(\"no of shots: \"))\n",
    "    Rn=int(input(\"no of receivers: \"))\n",
    "    ri=int(input(\"group interval(in metres): \"))\n",
    "    si=int(input(\"shot interval(in metres) must be a multiple of group interval: \"))\n",
    "    nearOffset=int(input(\"near trace offset: \"))\n",
    "    param=(Sn,Rn,si,ri,nearOffset)\n",
    "    return param"
   ]
  },
  {
   "cell_type": "code",
   "execution_count": 5,
   "id": "487b6a27-e2be-4b88-b821-ca1c042348b8",
   "metadata": {},
   "outputs": [],
   "source": [
    "# Calculting CMP Folds for each CMP Points using given parameters\n",
    "def solve(param):\n",
    "    Sn,Rn,si,ri,nearOffset=param\n",
    "    if si%ri!=0:\n",
    "        print()\n",
    "        print(\"---------Error----------\")\n",
    "        print(\"Shot Interval is not a multiple of group interval\")\n",
    "        return [-1]\n",
    "    # calculating total no of cmps using simple AP formula: An = A1 + (n-1)d\n",
    "    A1 = Rn\n",
    "    n = Sn\n",
    "    d = (si//ri)*2\n",
    "    d=min(d,Rn)\n",
    "    # d is actully shift in cmps when shot is shifted by si\n",
    "    An=A1+(n-1)*d\n",
    "    cmpFolds = [0]*(An)\n",
    "    startIndex = 0\n",
    "    endIndex=Rn-1\n",
    "    while endIndex<len(cmpFolds):\n",
    "        for i in range(startIndex,endIndex+1):\n",
    "            cmpFolds[i]+=1\n",
    "        startIndex+=d\n",
    "        endIndex+=d\n",
    "    return cmpFolds"
   ]
  },
  {
   "cell_type": "code",
   "execution_count": 6,
   "id": "545f2be9-2ee7-431a-95bc-e33c0909d044",
   "metadata": {},
   "outputs": [],
   "source": [
    "# Printing Required Outputs\n",
    "def printAns(param,cmpFolds):\n",
    "    Sn,Rn,si,ri,nearOffset=param\n",
    "    asLen = (Rn-1)*ri\n",
    "    farOffset = nearOffset + asLen\n",
    "    lastLiveCMP = len(cmpFolds)\n",
    "    maxFold = 0\n",
    "    numOfMaxFold = 0\n",
    "    firstFullFoldcmp = 0\n",
    "    for i in range(len(cmpFolds)):\n",
    "        if cmpFolds[i]>maxFold:\n",
    "            firstFullFoldcmp = i+1\n",
    "            maxFold=cmpFolds[i]\n",
    "            numOfMaxFold=1\n",
    "        elif cmpFolds[i]==maxFold:\n",
    "            numOfMaxFold+=1\n",
    "        else:\n",
    "            break\n",
    "    print()\n",
    "    print(\"----------Outputs-----------\")\n",
    "    print(\"Active Streamer Lenght = \",asLen)\n",
    "    print(\"Far Trace Offset = \",farOffset)\n",
    "    print(\"Last Live CMP number = \",lastLiveCMP)\n",
    "    print(\"The Maximum CMP Fold = \",maxFold)\n",
    "    print(\"First Full fold CMP number = \",firstFullFoldcmp)\n",
    "    print(\"Number of max cmp fold = \",numOfMaxFold)"
   ]
  },
  {
   "cell_type": "code",
   "execution_count": 7,
   "id": "37a7aa6f-388d-4c87-97d3-3f0e620bebc7",
   "metadata": {},
   "outputs": [],
   "source": [
    "def main():\n",
    "    params = getInput()\n",
    "    cmpFolds = solve(params)\n",
    "    if cmpFolds == [-1]:\n",
    "        return\n",
    "    printAns(params,cmpFolds)"
   ]
  },
  {
   "cell_type": "code",
   "execution_count": 8,
   "id": "7da24dae-92fb-40f7-8c6c-9e2d2c151196",
   "metadata": {},
   "outputs": [
    {
     "name": "stdout",
     "output_type": "stream",
     "text": [
      "----------Inputs-----------\n"
     ]
    },
    {
     "name": "stdin",
     "output_type": "stream",
     "text": [
      "no of shots:  20\n",
      "no of receivers:  10\n",
      "group interval(in metres):  25\n",
      "shot interval(in metres) must be a multiple of group interval:  25\n",
      "near trace offset:  125\n"
     ]
    },
    {
     "name": "stdout",
     "output_type": "stream",
     "text": [
      "\n",
      "----------Outputs-----------\n",
      "Active Streamer Lenght =  225\n",
      "Far Trace Offset =  350\n",
      "Last Live CMP number =  48\n",
      "The Maximum CMP Fold =  5\n",
      "First Full fold CMP number =  9\n",
      "Number of max cmp fold =  32\n"
     ]
    }
   ],
   "source": [
    "main()"
   ]
  },
  {
   "cell_type": "code",
   "execution_count": null,
   "id": "af18df36-1acb-4e07-8be6-075d90497bbc",
   "metadata": {},
   "outputs": [],
   "source": []
  }
 ],
 "metadata": {
  "kernelspec": {
   "display_name": "Python 3 (ipykernel)",
   "language": "python",
   "name": "python3"
  },
  "language_info": {
   "codemirror_mode": {
    "name": "ipython",
    "version": 3
   },
   "file_extension": ".py",
   "mimetype": "text/x-python",
   "name": "python",
   "nbconvert_exporter": "python",
   "pygments_lexer": "ipython3",
   "version": "3.12.4"
  }
 },
 "nbformat": 4,
 "nbformat_minor": 5
}
